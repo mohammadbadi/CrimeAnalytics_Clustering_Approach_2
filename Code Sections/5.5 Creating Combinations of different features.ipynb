{
  "nbformat": 4,
  "nbformat_minor": 0,
  "metadata": {
    "colab": {
      "provenance": [],
      "include_colab_link": true
    },
    "kernelspec": {
      "name": "python3",
      "display_name": "Python 3"
    },
    "language_info": {
      "name": "python"
    }
  },
  "cells": [
    {
      "cell_type": "markdown",
      "metadata": {
        "id": "view-in-github",
        "colab_type": "text"
      },
      "source": [
        "<a href=\"https://colab.research.google.com/github/mohammadbadi/Clustering_Frequency/blob/main/Code%20Sections/5.5%20Creating%20Combinations%20of%20different%20features.ipynb\" target=\"_parent\"><img src=\"https://colab.research.google.com/assets/colab-badge.svg\" alt=\"Open In Colab\"/></a>"
      ]
    },
    {
      "cell_type": "markdown",
      "source": [
        "### **Creating all possible combinations of different features**"
      ],
      "metadata": {
        "id": "Yevz83cTpGZG"
      }
    },
    {
      "cell_type": "code",
      "execution_count": null,
      "metadata": {
        "colab": {
          "base_uri": "https://localhost:8080/",
          "height": 52
        },
        "id": "oih5ozXow1L_",
        "outputId": "1ca1e5cf-99ed-4849-8403-515f86afc342"
      },
      "outputs": [
        {
          "output_type": "stream",
          "name": "stdout",
          "text": [
            "Saved all feature combinations to 'Feature_Combo_All_with_set_number.csv'. Total sets: 4284\n",
            "Total number of chunks (143 sets each): 30\n"
          ]
        },
        {
          "output_type": "display_data",
          "data": {
            "text/plain": [
              "<IPython.core.display.Javascript object>"
            ],
            "application/javascript": [
              "\n",
              "    async function download(id, filename, size) {\n",
              "      if (!google.colab.kernel.accessAllowed) {\n",
              "        return;\n",
              "      }\n",
              "      const div = document.createElement('div');\n",
              "      const label = document.createElement('label');\n",
              "      label.textContent = `Downloading \"${filename}\": `;\n",
              "      div.appendChild(label);\n",
              "      const progress = document.createElement('progress');\n",
              "      progress.max = size;\n",
              "      div.appendChild(progress);\n",
              "      document.body.appendChild(div);\n",
              "\n",
              "      const buffers = [];\n",
              "      let downloaded = 0;\n",
              "\n",
              "      const channel = await google.colab.kernel.comms.open(id);\n",
              "      // Send a message to notify the kernel that we're ready.\n",
              "      channel.send({})\n",
              "\n",
              "      for await (const message of channel.messages) {\n",
              "        // Send a message to notify the kernel that we're ready.\n",
              "        channel.send({})\n",
              "        if (message.buffers) {\n",
              "          for (const buffer of message.buffers) {\n",
              "            buffers.push(buffer);\n",
              "            downloaded += buffer.byteLength;\n",
              "            progress.value = downloaded;\n",
              "          }\n",
              "        }\n",
              "      }\n",
              "      const blob = new Blob(buffers, {type: 'application/binary'});\n",
              "      const a = document.createElement('a');\n",
              "      a.href = window.URL.createObjectURL(blob);\n",
              "      a.download = filename;\n",
              "      div.appendChild(a);\n",
              "      a.click();\n",
              "      div.remove();\n",
              "    }\n",
              "  "
            ]
          },
          "metadata": {}
        },
        {
          "output_type": "display_data",
          "data": {
            "text/plain": [
              "<IPython.core.display.Javascript object>"
            ],
            "application/javascript": [
              "download(\"download_677b4576-257e-4244-adaa-1c511a41ad0d\", \"Feature_Combo_All_with_set_number.csv\", 429799)"
            ]
          },
          "metadata": {}
        }
      ],
      "source": [
        "import os\n",
        "import warnings\n",
        "import itertools\n",
        "import numpy as np\n",
        "import pandas as pd\n",
        "from sklearn.cluster import DBSCAN\n",
        "from sklearn.metrics import silhouette_score\n",
        "from sklearn.preprocessing import StandardScaler\n",
        "from IPython.display import display, HTML\n",
        "from google.colab import files  # For automatic file download in Colab\n",
        "\n",
        "warnings.filterwarnings(\"ignore\", category=DeprecationWarning)\n",
        "warnings.filterwarnings(\"ignore\", category=FutureWarning)\n",
        "\n",
        "# ----- Helper function to split a list into chunks of given size -----\n",
        "def chunk_list(lst, chunk_size):\n",
        "    \"\"\"Yield successive chunk_size-sized chunks from lst.\"\"\"\n",
        "    for i in range(0, len(lst), chunk_size):\n",
        "        yield lst[i:i + chunk_size]\n",
        "\n",
        "# -------------------------------\n",
        "# Generate Feature Combinations\n",
        "# -------------------------------\n",
        "base_features = [\"OCC_YEAR\", \"OCC_DAY\", \"OCC_DOY\", \"OCC_MONTH_Num\", \"OCC_HOUR\"]\n",
        "\n",
        "group1_options = [\n",
        "    [\"OCC_DOW_Num\"],\n",
        "    [\"DOW_Weekend\", \"DOW_Begin\", \"DOW_Mid\"]\n",
        "]\n",
        "\n",
        "group2_options = [\n",
        "    [\"LONG_LAT_PCA\"],\n",
        "    [\"LONG_WGS84\", \"LAT_WGS84\"]\n",
        "]\n",
        "\n",
        "group3_options = [\n",
        "    [\"Division_Freq\"],\n",
        "    [\"HOOD_Freq\"],\n",
        "    [\"DIV_HOOD_Hier\"]\n",
        "]\n",
        "\n",
        "group4_options = [\n",
        "    [\"LOCATION_Freq\"],\n",
        "    [\"PREMISES_Freq\"],\n",
        "    [\"Loca_Premi_Freq\"]\n",
        "]\n",
        "\n",
        "all_combinations = []\n",
        "for r in range(len(base_features) + 1):\n",
        "    for base_subset in itertools.combinations(base_features, r):\n",
        "        base_list = list(base_subset)\n",
        "        for g1 in ([None] + group1_options):\n",
        "            for g2 in ([None] + group2_options):\n",
        "                for g3 in ([None] + group3_options):\n",
        "                    for g4 in ([None] + group4_options):\n",
        "                        current_set = base_list.copy()\n",
        "                        if g1 is not None:\n",
        "                            current_set += g1\n",
        "                        if g2 is not None:\n",
        "                            current_set += g2\n",
        "                        if g3 is not None:\n",
        "                            current_set += g3\n",
        "                        if g4 is not None:\n",
        "                            current_set += g4\n",
        "                        # Remove duplicates while preserving order\n",
        "                        current_set = list(dict.fromkeys(current_set))\n",
        "                        if len(current_set) >= 4:\n",
        "                            all_combinations.append(current_set)\n",
        "\n",
        "# Create a DataFrame with an additional set_number column\n",
        "feature_df = pd.DataFrame({\n",
        "    \"set_number\": range(1, len(all_combinations)+1),\n",
        "    \"features\": all_combinations\n",
        "})\n",
        "all_combos_filename = \"Feature_Combo_All_with_set_number.csv\"\n",
        "feature_df.to_csv(all_combos_filename, index=False)\n",
        "print(f\"Saved all feature combinations to '{all_combos_filename}'. Total sets: {len(all_combinations)}\")\n",
        "\n",
        "# Split into chunks of 143 sets (as before)\n",
        "chunk_size = 143\n",
        "chunks = list(chunk_list(all_combinations, chunk_size))\n",
        "total_chunks = len(chunks)\n",
        "print(f\"Total number of chunks (143 sets each): {total_chunks}\")\n",
        "files.download(all_combos_filename)"
      ]
    }
  ]
}