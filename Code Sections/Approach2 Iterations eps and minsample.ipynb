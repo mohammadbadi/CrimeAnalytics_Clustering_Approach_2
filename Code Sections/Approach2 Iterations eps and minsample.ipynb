{
  "nbformat": 4,
  "nbformat_minor": 0,
  "metadata": {
    "colab": {
      "provenance": [],
      "authorship_tag": "ABX9TyN3sJhsC55mXUUcH7yVunGH",
      "include_colab_link": true
    },
    "kernelspec": {
      "name": "python3",
      "display_name": "Python 3"
    },
    "language_info": {
      "name": "python"
    }
  },
  "cells": [
    {
      "cell_type": "markdown",
      "metadata": {
        "id": "view-in-github",
        "colab_type": "text"
      },
      "source": [
        "<a href=\"https://colab.research.google.com/github/mohammadbadi/Clustering_Frequency/blob/main/Code%20Sections/Approach2%20Iterations%20eps%20and%20minsample.ipynb\" target=\"_parent\"><img src=\"https://colab.research.google.com/assets/colab-badge.svg\" alt=\"Open In Colab\"/></a>"
      ]
    },
    {
      "cell_type": "markdown",
      "source": [
        "### **Approach 2 Iterations to find eps and minsample**"
      ],
      "metadata": {
        "id": "91rDt53jv5Iy"
      }
    },
    {
      "cell_type": "code",
      "execution_count": 43,
      "metadata": {
        "colab": {
          "base_uri": "https://localhost:8080/",
          "height": 203
        },
        "id": "OsgFKX49J_DQ",
        "outputId": "f275cb59-8f0b-49da-a8aa-c2cf4a1a444e"
      },
      "outputs": [
        {
          "output_type": "display_data",
          "data": {
            "text/plain": [
              "<IPython.core.display.Javascript object>"
            ],
            "application/javascript": [
              "\n",
              "    async function download(id, filename, size) {\n",
              "      if (!google.colab.kernel.accessAllowed) {\n",
              "        return;\n",
              "      }\n",
              "      const div = document.createElement('div');\n",
              "      const label = document.createElement('label');\n",
              "      label.textContent = `Downloading \"${filename}\": `;\n",
              "      div.appendChild(label);\n",
              "      const progress = document.createElement('progress');\n",
              "      progress.max = size;\n",
              "      div.appendChild(progress);\n",
              "      document.body.appendChild(div);\n",
              "\n",
              "      const buffers = [];\n",
              "      let downloaded = 0;\n",
              "\n",
              "      const channel = await google.colab.kernel.comms.open(id);\n",
              "      // Send a message to notify the kernel that we're ready.\n",
              "      channel.send({})\n",
              "\n",
              "      for await (const message of channel.messages) {\n",
              "        // Send a message to notify the kernel that we're ready.\n",
              "        channel.send({})\n",
              "        if (message.buffers) {\n",
              "          for (const buffer of message.buffers) {\n",
              "            buffers.push(buffer);\n",
              "            downloaded += buffer.byteLength;\n",
              "            progress.value = downloaded;\n",
              "          }\n",
              "        }\n",
              "      }\n",
              "      const blob = new Blob(buffers, {type: 'application/binary'});\n",
              "      const a = document.createElement('a');\n",
              "      a.href = window.URL.createObjectURL(blob);\n",
              "      a.download = filename;\n",
              "      div.appendChild(a);\n",
              "      a.click();\n",
              "      div.remove();\n",
              "    }\n",
              "  "
            ]
          },
          "metadata": {}
        },
        {
          "output_type": "display_data",
          "data": {
            "text/plain": [
              "<IPython.core.display.Javascript object>"
            ],
            "application/javascript": [
              "download(\"download_2c87bee1-4485-4a0a-9544-ce48af22290b\", \"Approach2_Stage2.csv\", 1194357)"
            ]
          },
          "metadata": {}
        },
        {
          "output_type": "display_data",
          "data": {
            "text/plain": [
              "<IPython.core.display.Javascript object>"
            ],
            "application/javascript": [
              "\n",
              "    async function download(id, filename, size) {\n",
              "      if (!google.colab.kernel.accessAllowed) {\n",
              "        return;\n",
              "      }\n",
              "      const div = document.createElement('div');\n",
              "      const label = document.createElement('label');\n",
              "      label.textContent = `Downloading \"${filename}\": `;\n",
              "      div.appendChild(label);\n",
              "      const progress = document.createElement('progress');\n",
              "      progress.max = size;\n",
              "      div.appendChild(progress);\n",
              "      document.body.appendChild(div);\n",
              "\n",
              "      const buffers = [];\n",
              "      let downloaded = 0;\n",
              "\n",
              "      const channel = await google.colab.kernel.comms.open(id);\n",
              "      // Send a message to notify the kernel that we're ready.\n",
              "      channel.send({})\n",
              "\n",
              "      for await (const message of channel.messages) {\n",
              "        // Send a message to notify the kernel that we're ready.\n",
              "        channel.send({})\n",
              "        if (message.buffers) {\n",
              "          for (const buffer of message.buffers) {\n",
              "            buffers.push(buffer);\n",
              "            downloaded += buffer.byteLength;\n",
              "            progress.value = downloaded;\n",
              "          }\n",
              "        }\n",
              "      }\n",
              "      const blob = new Blob(buffers, {type: 'application/binary'});\n",
              "      const a = document.createElement('a');\n",
              "      a.href = window.URL.createObjectURL(blob);\n",
              "      a.download = filename;\n",
              "      div.appendChild(a);\n",
              "      a.click();\n",
              "      div.remove();\n",
              "    }\n",
              "  "
            ]
          },
          "metadata": {}
        },
        {
          "output_type": "display_data",
          "data": {
            "text/plain": [
              "<IPython.core.display.Javascript object>"
            ],
            "application/javascript": [
              "download(\"download_c1c3c437-e7a8-4c77-b233-d323cdcb54b2\", \"Approach2_Stage3.csv\", 2138651)"
            ]
          },
          "metadata": {}
        },
        {
          "output_type": "display_data",
          "data": {
            "text/plain": [
              "<IPython.core.display.HTML object>"
            ],
            "text/html": [
              "\n",
              "<p style=\"color: black; font-size: 18px; font-weight: bold;\">\n",
              "    <u>Approach 2 Stage 1</u><br>\n",
              "    Stage 1 total = <span style='color: blue;'>64260</span>\n",
              "</p>\n",
              "<p style=\"color: black; font-size: 18px; font-weight: bold;\">\n",
              "    <u>Approach 2 Stage 2</u><br>\n",
              "    Stage 2 total = <span style='color: blue;'>99307</span>\n",
              "</p>\n",
              "<p style=\"color: black; font-size: 18px; font-weight: bold;\">\n",
              "    <u>Approach 2 Stage 3</u><br>\n",
              "    Stage 3 total = <span style='color: blue;'>228646</span>\n",
              "</p>\n",
              "<p style=\"color: black; font-size: 18px; font-weight: bold;\">\n",
              "    <u>Approach 2 total iterations to find best eps and min sample:</u>\n",
              "    <span style='color: blue;'>392213</span>\n",
              "</p>\n"
            ]
          },
          "metadata": {}
        }
      ],
      "source": [
        "import os\n",
        "import pandas as pd\n",
        "from google.colab import files\n",
        "from IPython.display import display, HTML\n",
        "\n",
        "# Define parameters for each stage\n",
        "EPS_JUMP_COARSE = 0.5\n",
        "MINSAMPLE_JUMP_COARSE = 2\n",
        "EPS_JUMP_INTERMEDIATE = 0.1\n",
        "MINSAMPLE_JUMP_INTERMEDIATE = 1\n",
        "\n",
        "# Columns to check for NaN or empty values\n",
        "required_columns = [\n",
        "    \"best_eps\", \"best_min_samples\", \"best_silhouette_score\", \"top10_eps\", \"top10_min_samples\",\n",
        "    \"top10_eps_min\", \"top10_eps_max\", \"top10_min_samples_min\", \"top10_min_samples_max\"\n",
        "]\n",
        "\n",
        "# Stage 1 (Coarse Tuning)\n",
        "eps_iter_stage1 = ((5 - 1) + 1) / 1\n",
        "min_iter_stage1 = ((15 - 5) + 5) / 5\n",
        "iter_per_set_stage1 = eps_iter_stage1 * min_iter_stage1\n",
        "\n",
        "coarse_files = [f\"DBSCAN_Coarse_Top10_chunk_{i}.csv\" for i in range(1, 31) if os.path.exists(f\"DBSCAN_Coarse_Top10_chunk_{i}.csv\")]\n",
        "df_coarse = pd.concat([pd.read_csv(file) for file in coarse_files], ignore_index=True)\n",
        "num_sets_coarse = df_coarse[\"set_number\"].nunique()\n",
        "stage1_total = iter_per_set_stage1 * num_sets_coarse\n",
        "\n",
        "# Stage 2 (Intermediate Tuning)\n",
        "def compute_values(row, eps_jump, minsample_jump):\n",
        "    if row[required_columns].isna().all():  # If all required columns are NaN or empty\n",
        "        return pd.Series([0, 0, 0, 0, 0], index=[\"Diff_eps\", \"Diff_minsample\", \"Iteration_eps\", \"Iteration_minsamp\", \"Iterations\"])\n",
        "\n",
        "    diff_eps = max(row[\"top10_eps_max\"] - row[\"top10_eps_min\"], 1)\n",
        "    diff_minsample = max(row[\"top10_min_samples_max\"] - row[\"top10_min_samples_min\"], 1)\n",
        "    iteration_eps = (diff_eps / eps_jump) + 1\n",
        "    iteration_minsamp = (diff_minsample / minsample_jump) + 1\n",
        "    iterations = iteration_eps * iteration_minsamp\n",
        "\n",
        "    return pd.Series([diff_eps, diff_minsample, iteration_eps, iteration_minsamp, iterations],\n",
        "                     index=[\"Diff_eps\", \"Diff_minsample\", \"Iteration_eps\", \"Iteration_minsamp\", \"Iterations\"])\n",
        "\n",
        "# Apply logic to Coarse Data\n",
        "df_coarse[[\"Diff_eps\", \"Diff_minsample\", \"Iteration_eps\", \"Iteration_minsamp\", \"Iterations\"]] = df_coarse.apply(\n",
        "    lambda row: compute_values(row, EPS_JUMP_COARSE, MINSAMPLE_JUMP_COARSE), axis=1\n",
        ")\n",
        "\n",
        "stage2_total = df_coarse[\"Iterations\"].sum()\n",
        "coarse_output_filename = \"Approach2_Stage2.csv\"\n",
        "df_coarse.to_csv(coarse_output_filename, index=False)\n",
        "files.download(coarse_output_filename)\n",
        "\n",
        "# Stage 3 (Fine Tuning)\n",
        "intermediate_files = [f\"DBSCAN_Intermediate_Top10_chunk_{i}.csv\"\n",
        "                      for i in range(1, 31)\n",
        "                      if os.path.exists(f\"DBSCAN_Intermediate_Top10_chunk_{i}.csv\")]\n",
        "df_intermediate = pd.concat([pd.read_csv(file) for file in intermediate_files], ignore_index=True)\n",
        "\n",
        "# For Stage 3, use only the relevant required columns present in these files\n",
        "required_columns_stage3 = [\"top10_eps_max\", \"top10_eps_min\", \"top10_min_samples_max\", \"top10_min_samples_min\"]\n",
        "\n",
        "df_intermediate[[\"Diff_eps\", \"Diff_minsample\", \"Iteration_eps\", \"Iteration_minsamp\", \"Iterations\"]] = \\\n",
        "    df_intermediate.apply(\n",
        "        lambda row: compute_values(row, EPS_JUMP_INTERMEDIATE, MINSAMPLE_JUMP_INTERMEDIATE)\n",
        "                    if not row[required_columns_stage3].isna().all()\n",
        "                    else pd.Series([0, 0, 0, 0, 0],\n",
        "                                   index=[\"Diff_eps\", \"Diff_minsample\", \"Iteration_eps\", \"Iteration_minsamp\", \"Iterations\"]),\n",
        "        axis=1\n",
        "    )\n",
        "\n",
        "stage3_total = df_intermediate[\"Iterations\"].sum()\n",
        "intermediate_output_filename = \"Approach2_Stage3.csv\"\n",
        "df_intermediate.to_csv(intermediate_output_filename, index=False)\n",
        "files.download(intermediate_output_filename)\n",
        "\n",
        "total_iterations = stage1_total + stage2_total + stage3_total\n",
        "\n",
        "# Display the results in formatted HTML\n",
        "explanation = f\"\"\"\n",
        "<p style=\"color: black; font-size: 18px; font-weight: bold;\">\n",
        "    <u>Approach 2 Stage 1</u><br>\n",
        "    Stage 1 total = <span style='color: blue;'>{int(stage1_total)}</span>\n",
        "</p>\n",
        "<p style=\"color: black; font-size: 18px; font-weight: bold;\">\n",
        "    <u>Approach 2 Stage 2</u><br>\n",
        "    Stage 2 total = <span style='color: blue;'>{int(stage2_total)}</span>\n",
        "</p>\n",
        "<p style=\"color: black; font-size: 18px; font-weight: bold;\">\n",
        "    <u>Approach 2 Stage 3</u><br>\n",
        "    Stage 3 total = <span style='color: blue;'>{int(stage3_total)}</span>\n",
        "</p>\n",
        "<p style=\"color: black; font-size: 18px; font-weight: bold;\">\n",
        "    <u>Approach 2 total iterations to find best eps and min sample:</u>\n",
        "    <span style='color: blue;'>{int(total_iterations)}</span>\n",
        "</p>\n",
        "\"\"\"\n",
        "display(HTML(explanation))"
      ]
    }
  ]
}